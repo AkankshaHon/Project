{
 "cells": [
  {
   "cell_type": "code",
   "execution_count": 16,
   "metadata": {},
   "outputs": [],
   "source": [
    "import cv2\n",
    "import tensorflow as tf\n",
    "from tensorflow.keras.preprocessing.image import array_to_img, img_to_array, load_img\n",
    "import numpy as np\n",
    "\n",
    "WIDTH = 128\n",
    "HEIGHT = 128\n",
    "DEPTH = 3\n",
    "def prepare(filepath):\n",
    "    #img_array=cv2.imread(filepath,cv2.IMREAD_GRAYSCALE)\n",
    "    #new_array=cv2.resize(img_array,(HEIGHT,WIDTH))\n",
    "    #arr = cv2.resize(new_array, (HEIGHT,WIDTH))\n",
    "    #return arr.reshape(-1,HEIGHT,WIDTH,3)\n",
    "    img = load_img(filepath)\n",
    "    arr = img_to_array(img)\n",
    "    arr = cv2.resize(arr, (HEIGHT,WIDTH))\n",
    "    arr = np.array(arr, dtype=\"float\")\n",
    "    return arr.reshape(-1,HEIGHT,WIDTH,3)\n",
    "    \n",
    "\n",
    "model=tf.keras.models.load_model('C:/Users/AKANKSHA/Desktop/gen.hd5')\n",
    "#img = cv2.imread('test.jpg')\n",
    "def int_to_classes(i):\n",
    "    if i >= 0 and i<1: return \"No DR\"\n",
    "    elif i >= 1 and i<2: return \"Mild\"\n",
    "    elif i >= 2 and i<3: return \"Moderate\"\n",
    "    elif i >= 3 and i<4: return \"Severe\"\n",
    "    elif i >= 4 and i<5: return \"Proliferative DR\"\n",
    "    print(\"Invalid class \", i)\n",
    "    return \"Invalid Class\""
   ]
  },
  {
   "cell_type": "code",
   "execution_count": 17,
   "metadata": {},
   "outputs": [
    {
     "name": "stdout",
     "output_type": "stream",
     "text": [
      "[[1.000000e+00 0.000000e+00 9.692892e-30 0.000000e+00 0.000000e+00]]\n",
      "[[1.0000000e+00 5.7755406e-37 2.3519930e-22 0.0000000e+00 0.0000000e+00]]\n",
      "[[1.0000000e+00 0.0000000e+00 1.7227282e-26 0.0000000e+00 0.0000000e+00]]\n"
     ]
    }
   ],
   "source": [
    "from tkinter import *\n",
    "import sys\n",
    "import matplotlib as plt\n",
    "from tkinter import ttk\n",
    "import tkinter.filedialog\n",
    "from tkinter.filedialog import askopenfilename # Open dialog box\n",
    "from PIL import Image\n",
    "import cv2, time\n",
    "def open_File():   \n",
    "    filename = askopenfilename(filetypes=[(\"images\",\"*.jpeg\")])\n",
    "    prediction=model.predict([prepare(filename)])\n",
    "    print(prediction)\n",
    "    idx=np.argmax(prediction)\n",
    "    #print(idx)\n",
    "    b=Label(window,text=idx)\n",
    "    b.place(x=170, y=190)\n",
    "    c=int_to_classes(idx)\n",
    "    a=Label(window,text=c)\n",
    "    a.place(x=170, y=150)\n",
    "window = Tk()                              # Create window\n",
    "lbl=Label(window, text=\"Diabetic Retinopathy Detection System\", fg='red', font=(\"Helvetica\", 16))\n",
    "lbl.place(x=60, y=50)\n",
    "window.title(\"Check For Disease\")               \n",
    "l1=Label(window, text=\"Select image\")\n",
    "l1.grid(row=0,column=0)\n",
    "l1.place(x=100, y=100)\n",
    "btn1=Button(window,text=\"Browse image\", width =14)\n",
    "btn1.grid(row=0, column=3)\n",
    "btn1.place(x=200, y=100)\n",
    "window.geometry(\"500x300+10+10\")\n",
    "btn1.config(command=open_File)\n",
    "window.mainloop()"
   ]
  },
  {
   "cell_type": "code",
   "execution_count": null,
   "metadata": {},
   "outputs": [],
   "source": []
  }
 ],
 "metadata": {
  "kernelspec": {
   "display_name": "Python 3",
   "language": "python",
   "name": "python3"
  },
  "language_info": {
   "codemirror_mode": {
    "name": "ipython",
    "version": 3
   },
   "file_extension": ".py",
   "mimetype": "text/x-python",
   "name": "python",
   "nbconvert_exporter": "python",
   "pygments_lexer": "ipython3",
   "version": "3.7.3"
  }
 },
 "nbformat": 4,
 "nbformat_minor": 2
}
